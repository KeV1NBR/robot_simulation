{
 "cells": [
  {
   "cell_type": "markdown",
   "id": "c950aa3e",
   "metadata": {},
   "source": [
    "# Pybullet GUI"
   ]
  },
  {
   "cell_type": "code",
   "execution_count": 1,
   "id": "6e378bdb",
   "metadata": {},
   "outputs": [
    {
     "name": "stderr",
     "output_type": "stream",
     "text": [
      "pybullet build time: May 20 2022 19:44:17\n"
     ]
    }
   ],
   "source": [
    "import pybullet as p\n",
    "import pybullet_data\n",
    "import numpy as np\n",
    "import time\n",
    "from math import *\n",
    "\n",
    "np.set_printoptions(precision= 5)\n",
    "use_gui = True\n",
    "if use_gui:\n",
    "    physicsClient = p.connect(p.GUI,  options='--background_color_red=0.0 --background_color_green=0.66 --background_color_blue=0.66')\n",
    "else:\n",
    "    physicsClient = p.connect(p.DIRECT)\n",
    "\n",
    "p.setAdditionalSearchPath(pybullet_data.getDataPath())\n",
    "plane_id = p.loadURDF(\"plane.urdf\")\n",
    "startposition=[0., 0., 0.636]\n",
    "\n",
    "startOrientation = p.getQuaternionFromEuler([0, 0, 0])  \n",
    "robot = p.loadURDF(\"/home/qrobot/robot_urdf/urdf/robot_urdf.urdf\", basePosition=startposition, baseOrientation=startOrientation)\n",
    "p.setGravity(0, 0, -9.8)\n",
    "p.setRealTimeSimulation(1)"
   ]
  },
  {
   "cell_type": "code",
   "execution_count": 2,
   "id": "6b0ba207",
   "metadata": {},
   "outputs": [
    {
     "name": "stdout",
     "output_type": "stream",
     "text": [
      "0 :  b'FL'\n",
      "1 :  b'BL'\n",
      "2 :  b'FR'\n",
      "3 :  b'BR'\n",
      "4 :  b'J1'\n",
      "5 :  b'J2'\n",
      "6 :  b'J3'\n",
      "7 :  b'J4'\n",
      "8 :  b'J5'\n",
      "9 :  b'J6'\n"
     ]
    }
   ],
   "source": [
    "number_of_joints = p.getNumJoints(robot)\n",
    "for joint_number in range(number_of_joints):\n",
    "    info = p.getJointInfo(robot,joint_number)\n",
    "    print(info[0], \": \", info[1])"
   ]
  },
  {
   "cell_type": "code",
   "execution_count": 5,
   "id": "c5c274f5",
   "metadata": {},
   "outputs": [],
   "source": [
    "p.setJointMotorControl2(robot,\n",
    "                       jointIndex=0,\n",
    "                       controlMode = p.VELOCITY_CONTROL,\n",
    "                       targetVelocity = 0,\n",
    "                       )\n",
    "p.setJointMotorControl2(robot,\n",
    "                       jointIndex=1,\n",
    "                       controlMode = p.VELOCITY_CONTROL,\n",
    "                       targetVelocity = 0,\n",
    "                       )\n",
    "p.setJointMotorControl2(robot,\n",
    "                       jointIndex=2,\n",
    "                       controlMode = p.VELOCITY_CONTROL,\n",
    "                       targetVelocity = 0,\n",
    "                       )\n",
    "p.setJointMotorControl2(robot,\n",
    "                       jointIndex=3,\n",
    "                       controlMode = p.VELOCITY_CONTROL,\n",
    "                       targetVelocity = 0,\n",
    "                       )"
   ]
  },
  {
   "cell_type": "code",
   "execution_count": 7,
   "id": "1cbd81e4",
   "metadata": {},
   "outputs": [],
   "source": [
    "p.setJointMotorControl2(robot,\n",
    "                       jointIndex=4,\n",
    "                       controlMode = p.POSITION_CONTROL,\n",
    "                       targetPosition = 90,\n",
    "                       )"
   ]
  }
 ],
 "metadata": {
  "kernelspec": {
   "display_name": "Python 3 (ipykernel)",
   "language": "python",
   "name": "python3"
  },
  "language_info": {
   "codemirror_mode": {
    "name": "ipython",
    "version": 3
   },
   "file_extension": ".py",
   "mimetype": "text/x-python",
   "name": "python",
   "nbconvert_exporter": "python",
   "pygments_lexer": "ipython3",
   "version": "3.8.10"
  }
 },
 "nbformat": 4,
 "nbformat_minor": 5
}
